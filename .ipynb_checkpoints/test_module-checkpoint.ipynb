{
 "cells": [
  {
   "cell_type": "code",
   "execution_count": 1,
   "metadata": {},
   "outputs": [],
   "source": [
    "import load_dataset_module\n",
    "import similarity_module\n",
    "import menu_module"
   ]
  },
  {
   "cell_type": "code",
   "execution_count": 2,
   "metadata": {},
   "outputs": [],
   "source": [
    "def main():\n",
    "    \"\"\"\n",
    "    Main function to run the recommendation engine.\n",
    "    \"\"\"\n",
    "    print(\"******Welcome to the Intelligent Service Recommendation Engine!******\\n\")\n",
    "\n",
    "    # Load book and user data\n",
    "    book_profile = load_dataset_module.load_books_dataset()\n",
    "    user_profile = load_dataset_module.load_users_dataset()\n",
    "\n",
    "    try:\n",
    "        while True:\n",
    "            print(\"\\nMain Menu:\")\n",
    "            print(\"1. Get Book and User Details\")\n",
    "            print(\"2. Recommend Books\")\n",
    "            print(\"3. Find Similarity Between 2 Users\")\n",
    "            print(\"4. Find Similarity Between 2 Books\")\n",
    "            print(\"0. Exit\")\n",
    "    \n",
    "            choice = input(\"\\nEnter your choice (0-4): \")\n",
    "    \n",
    "            if choice == \"1\":\n",
    "                menu_module.get_details_menu(book_profile, user_profile)\n",
    "                \n",
    "            elif choice == \"2\":\n",
    "                print(\"\\nGet 'N' number of similar books:\")\n",
    "                ISBN = input(\"\\nEnter the ISBN: \")\n",
    "                try:\n",
    "                    number = int(input(\"\\nEnter the total number of required book recommendation: \"))\n",
    "                except ValueError:\n",
    "                    print(\"\\nInvalid input for number. Please enter an integer.\")\n",
    "                    continue\n",
    "            \n",
    "                similarity_module.find_n_similar_books(ISBN, number, book_profile)\n",
    "                \n",
    "            elif choice == \"3\":\n",
    "                menu_module.find_similar_users_menu(user_profile)\n",
    "            elif choice == \"4\":\n",
    "                menu_module.find_similar_books_menu(book_profile)\n",
    "            elif choice == \"0\":\n",
    "                print(\"\\nThank you for using the Intelligent Service Recommendation Engine!\")\n",
    "                break\n",
    "            else:\n",
    "                print(\"\\nInvalid choice. Please enter a number between 0 and 4.\")\n",
    "                \n",
    "    except Exception as e:\n",
    "        print(f\"Exception Occurred: {e}\")"
   ]
  },
  {
   "cell_type": "code",
   "execution_count": 3,
   "metadata": {},
   "outputs": [
    {
     "name": "stdout",
     "output_type": "stream",
     "text": [
      "******Welcome to the Intelligent Service Recommendation Engine!******\n",
      "\n",
      "Main Menu:\n",
      "1. Get Book and User Details\n",
      "2. Recommend Books\n",
      "3. Find Similarity Between 2 Users\n",
      "4. Find Similarity Between 2 Books\n",
      "0. Exit\n"
     ]
    },
    {
     "name": "stdin",
     "output_type": "stream",
     "text": [
      "\n",
      "Enter your choice (0-4):  3\n"
     ]
    },
    {
     "name": "stdout",
     "output_type": "stream",
     "text": [
      "\n",
      "Choose a method to calculate similarity:\n",
      "1. Pearson Correlation Coefficient\n",
      "2. Manhattan Distance\n",
      "3. Back to Main Menu\n"
     ]
    },
    {
     "name": "stdin",
     "output_type": "stream",
     "text": [
      "\n",
      "Enter your choice (1-3):  1\n",
      "\n",
      "Enter the first user:  258377\n",
      "\n",
      "Enter the second user:  114722\n"
     ]
    },
    {
     "name": "stdout",
     "output_type": "stream",
     "text": [
      "\n",
      "Similarity: 0\n",
      "Explanation: No common ratings found.\n",
      "\n",
      "Choose a method to calculate similarity:\n",
      "1. Pearson Correlation Coefficient\n",
      "2. Manhattan Distance\n",
      "3. Back to Main Menu\n"
     ]
    },
    {
     "name": "stdin",
     "output_type": "stream",
     "text": [
      "\n",
      "Enter your choice (1-3):  2\n",
      "\n",
      "Enter the first user:  114722\n",
      "\n",
      "Enter the second user:  114722\n"
     ]
    },
    {
     "name": "stdout",
     "output_type": "stream",
     "text": [
      "\n",
      "Similarity: 0.0\n",
      "Explanation: Manhattan Distance: 0.00\n",
      "A lower Manhattan distance implies greater similarity.\n",
      "\n",
      "Choose a method to calculate similarity:\n",
      "1. Pearson Correlation Coefficient\n",
      "2. Manhattan Distance\n",
      "3. Back to Main Menu\n"
     ]
    },
    {
     "name": "stdin",
     "output_type": "stream",
     "text": [
      "\n",
      "Enter your choice (1-3):  3\n"
     ]
    },
    {
     "name": "stdout",
     "output_type": "stream",
     "text": [
      "Main Menu:\n",
      "1. Get Book and User Details\n",
      "2. Recommend Books\n",
      "3. Find Similarity Between 2 Users\n",
      "4. Find Similarity Between 2 Books\n",
      "0. Exit\n"
     ]
    },
    {
     "name": "stdin",
     "output_type": "stream",
     "text": [
      "\n",
      "Enter your choice (0-4):  4\n"
     ]
    },
    {
     "name": "stdout",
     "output_type": "stream",
     "text": [
      "\n",
      "Choose a method to calculate similarity:\n",
      "1. Euclidean Distance\n",
      "2. Cosine similarity\n",
      "3. Minkowski Distance\n",
      "4. Back to Main Menu\n"
     ]
    },
    {
     "name": "stdin",
     "output_type": "stream",
     "text": [
      "\n",
      "Enter your choice (1-4):  1\n",
      "\n",
      "Enter the first book:  0843953837\n",
      "\n",
      "Enter the second book:  042519549X\n"
     ]
    },
    {
     "name": "stdout",
     "output_type": "stream",
     "text": [
      "\n",
      "Similarity: 0.0\n",
      "Explanation: Euclidean Distance: 0.00\n",
      "A lower Euclidean distance implies greater similarity.\n",
      "\n",
      "Choose a method to calculate similarity:\n",
      "1. Euclidean Distance\n",
      "2. Cosine similarity\n",
      "3. Minkowski Distance\n",
      "4. Back to Main Menu\n"
     ]
    },
    {
     "name": "stdin",
     "output_type": "stream",
     "text": [
      "\n",
      "Enter your choice (1-4):  4\n"
     ]
    },
    {
     "name": "stdout",
     "output_type": "stream",
     "text": [
      "Main Menu:\n",
      "1. Get Book and User Details\n",
      "2. Recommend Books\n",
      "3. Find Similarity Between 2 Users\n",
      "4. Find Similarity Between 2 Books\n",
      "0. Exit\n"
     ]
    },
    {
     "name": "stdin",
     "output_type": "stream",
     "text": [
      "\n",
      "Enter your choice (0-4):  0\n"
     ]
    },
    {
     "name": "stdout",
     "output_type": "stream",
     "text": [
      "Thank you for using the Intelligent Service Recommendation Engine!\n"
     ]
    }
   ],
   "source": [
    "if __name__ == '__main__':\n",
    "    main()"
   ]
  },
  {
   "cell_type": "code",
   "execution_count": 3,
   "metadata": {},
   "outputs": [
    {
     "ename": "SyntaxError",
     "evalue": "leading zeros in decimal integer literals are not permitted; use an 0o prefix for octal integers (564312475.py, line 1)",
     "output_type": "error",
     "traceback": [
      "\u001b[1;36m  Cell \u001b[1;32mIn[3], line 1\u001b[1;36m\u001b[0m\n\u001b[1;33m    042519549X\u001b[0m\n\u001b[1;37m    ^\u001b[0m\n\u001b[1;31mSyntaxError\u001b[0m\u001b[1;31m:\u001b[0m leading zeros in decimal integer literals are not permitted; use an 0o prefix for octal integers\n"
     ]
    }
   ],
   "source": [
    "# Test ids:\n",
    "# 042519549X\n",
    "\n",
    "# 0843953837\n",
    "\n",
    "# 276723\n",
    "# 114722\n",
    "# 258377"
   ]
  },
  {
   "cell_type": "code",
   "execution_count": null,
   "metadata": {},
   "outputs": [],
   "source": []
  },
  {
   "cell_type": "code",
   "execution_count": 6,
   "metadata": {},
   "outputs": [],
   "source": []
  },
  {
   "cell_type": "code",
   "execution_count": null,
   "metadata": {},
   "outputs": [],
   "source": []
  }
 ],
 "metadata": {
  "kernelspec": {
   "display_name": "Python 3 (ipykernel)",
   "language": "python",
   "name": "python3"
  },
  "language_info": {
   "codemirror_mode": {
    "name": "ipython",
    "version": 3
   },
   "file_extension": ".py",
   "mimetype": "text/x-python",
   "name": "python",
   "nbconvert_exporter": "python",
   "pygments_lexer": "ipython3",
   "version": "3.11.5"
  }
 },
 "nbformat": 4,
 "nbformat_minor": 4
}
